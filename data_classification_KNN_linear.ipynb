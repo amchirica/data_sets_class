{
  "nbformat": 4,
  "nbformat_minor": 0,
  "metadata": {
    "colab": {
      "provenance": []
    },
    "kernelspec": {
      "name": "python3",
      "display_name": "Python 3"
    },
    "language_info": {
      "name": "python"
    }
  },
  "cells": [
    {
      "cell_type": "code",
      "execution_count": 1,
      "metadata": {
        "id": "IBCWyHd0FZRN"
      },
      "outputs": [],
      "source": [
        "import numpy as np\n",
        "import pandas as pd\n",
        "import matplotlib.pyplot as plt\n",
        "import seaborn as sns\n",
        "from sklearn.model_selection import train_test_split\n",
        "from sklearn.linear_model import LogisticRegression\n",
        "from sklearn.neighbors import KNeighborsClassifier\n",
        "from sklearn import metrics\n",
        "from sklearn.model_selection import cross_val_score"
      ]
    },
    {
      "cell_type": "code",
      "source": [
        "df = pd.read_csv('datasets1.csv')"
      ],
      "metadata": {
        "id": "qQpNDPL5Fqfq"
      },
      "execution_count": 3,
      "outputs": []
    },
    {
      "cell_type": "code",
      "source": [
        "# Data Preprocessing\n",
        "df['Churn'] = df['Churn'].map({'Yes': 1, 'No': 0})\n",
        "df.drop('customerID', axis=1, inplace=True)\n",
        "df['Dependents'] = df['Dependents'].map({'Yes': 1, 'No': 0})\n",
        "df['PhoneService'] = df['PhoneService'].map({'Yes': 1, 'No': 0})\n",
        "df['MultipleLines'] = df['MultipleLines'].map({'Yes': 1, 'No': 0, 'No phone service': 2})\n",
        "df['InternetService'] = df['InternetService'].map({'DSL': 1, 'Fiber optic': 0, 'No': 2})\n",
        "df['OnlineBackup'] = df['OnlineBackup'].map({'Yes': 1, 'No': 0, 'No internet service': 2})\n",
        "df['OnlineSecurity'] = df['OnlineSecurity'].map({'Yes': 1, 'No': 0, 'No internet service': 2})\n",
        "df['TechSupport'] = df['TechSupport'].map({'Yes': 1, 'No': 0, 'No internet service': 2})\n",
        "df['StreamingMovies'] = df['StreamingMovies'].map({'Yes': 1, 'No': 0, 'No internet service': 2})\n",
        "df['Contract'] = df['Contract'].map({'One year': 1, 'Month-to-month': 0, 'Two year': 2})\n",
        "df['PaperlessBilling'] = df['PaperlessBilling'].map({'Yes': 1, 'No': 0})\n",
        "df['PaymentMethod'] = df['PaymentMethod'].map({'Mailed check': 1, 'Electronic check': 0, 'Bank transfer (automatic)': 2, 'Credit card (automatic)': 3})\n",
        "df['TotalCharges'] = pd.to_numeric(df['TotalCharges'], errors='coerce')\n",
        "df.fillna(df['TotalCharges'].mean(), inplace=True)"
      ],
      "metadata": {
        "id": "9eedBAPzF4gX"
      },
      "execution_count": 4,
      "outputs": []
    },
    {
      "cell_type": "code",
      "source": [
        "# Data Visualization\n",
        "sns.heatmap(df.isnull(), yticklabels=False, cbar=False, cmap='viridis')\n",
        "sns.set_style('whitegrid')\n",
        "sns.countplot(x='Churn', data=df)\n",
        "sns.countplot(x='Churn', hue='SeniorCitizen', data=df)"
      ],
      "metadata": {
        "colab": {
          "base_uri": "https://localhost:8080/",
          "height": 461
        },
        "id": "Eq0wQvyvF55H",
        "outputId": "6b5251b1-fdeb-4c2f-8f40-859e32970c1f"
      },
      "execution_count": 5,
      "outputs": [
        {
          "output_type": "execute_result",
          "data": {
            "text/plain": [
              "<Axes: xlabel='Churn', ylabel='count'>"
            ]
          },
          "metadata": {},
          "execution_count": 5
        },
        {
          "output_type": "display_data",
          "data": {
            "text/plain": [
              "<Figure size 640x480 with 1 Axes>"
            ],
            "image/png": "[encoded data removed]"
          },
          "metadata": {}
        }
      ]
    },
    {
      "cell_type": "code",
      "source": [
        "# One-hot encoding for categorical variables\n",
        "X_train_encoded = pd.get_dummies(X_train, drop_first=True)\n",
        "X_test_encoded = pd.get_dummies(X_test, drop_first=True)\n",
        "\n",
        "logreg = LogisticRegression()\n",
        "logreg.fit(X_train_encoded, y_train)\n",
        "y_pred_logreg = logreg.predict(X_test_encoded)\n",
        "print(\"Logistic Regression Accuracy:\", metrics.accuracy_score(y_test, y_pred_logreg))\n"
      ],
      "metadata": {
        "colab": {
          "base_uri": "https://localhost:8080/"
        },
        "id": "yVUdoRx_F-Vg",
        "outputId": "7fd230fc-ab87-48f5-804c-1940363f9834"
      },
      "execution_count": 9,
      "outputs": [
        {
          "output_type": "stream",
          "name": "stdout",
          "text": [
            "Logistic Regression Accuracy: 0.810752688172043\n"
          ]
        },
        {
          "output_type": "stream",
          "name": "stderr",
          "text": [
            "/usr/local/lib/python3.10/dist-packages/sklearn/linear_model/_logistic.py:458: ConvergenceWarning: lbfgs failed to converge (status=1):\n",
            "STOP: TOTAL NO. of ITERATIONS REACHED LIMIT.\n",
            "\n",
            "Increase the number of iterations (max_iter) or scale the data as shown in:\n",
            "    https://scikit-learn.org/stable/modules/preprocessing.html\n",
            "Please also refer to the documentation for alternative solver options:\n",
            "    https://scikit-learn.org/stable/modules/linear_model.html#logistic-regression\n",
            "  n_iter_i = _check_optimize_result(\n"
          ]
        }
      ]
    },
    {
      "cell_type": "code",
      "source": [
        "from sklearn.preprocessing import StandardScaler\n",
        "\n",
        "# One-hot encoding for categorical variables\n",
        "X_train_encoded = pd.get_dummies(X_train, drop_first=True)\n",
        "X_test_encoded = pd.get_dummies(X_test, drop_first=True)\n",
        "\n",
        "# Standardize numerical features\n",
        "scaler = StandardScaler()\n",
        "X_train_encoded = scaler.fit_transform(X_train_encoded)\n",
        "X_test_encoded = scaler.transform(X_test_encoded)\n",
        "\n",
        "# Instantiate and fit the KNN model\n",
        "knn = KNeighborsClassifier(n_neighbors=5)\n",
        "knn.fit(X_train_encoded, y_train)\n",
        "\n",
        "# Make predictions and evaluate accuracy\n",
        "y_pred_knn = knn.predict(X_test_encoded)\n",
        "print(\"KNN Accuracy:\", metrics.accuracy_score(y_test, y_pred_knn))\n",
        "\n"
      ],
      "metadata": {
        "colab": {
          "base_uri": "https://localhost:8080/"
        },
        "id": "tAvGKTKNGSU2",
        "outputId": "713dfe1d-a909-4044-8e3a-a2f8a977aa21"
      },
      "execution_count": 11,
      "outputs": [
        {
          "output_type": "stream",
          "name": "stdout",
          "text": [
            "KNN Accuracy: 0.7651612903225806\n"
          ]
        }
      ]
    },
    {
      "cell_type": "code",
      "source": [
        "from sklearn.preprocessing import StandardScaler\n",
        "from sklearn.pipeline import make_pipeline\n",
        "\n",
        "# One-hot encoding for categorical variables\n",
        "X_encoded = pd.get_dummies(X, drop_first=True)\n",
        "\n",
        "# Standardize numerical features\n",
        "scaler = StandardScaler()\n",
        "X_encoded = scaler.fit_transform(X_encoded)\n",
        "\n",
        "# Instantiate the KNN model within a pipeline\n",
        "knn_cv = make_pipeline(StandardScaler(), KNeighborsClassifier(n_neighbors=5))\n",
        "\n",
        "# Cross-validation\n",
        "scores_cv = cross_val_score(knn_cv, X_encoded, y, cv=10, scoring='accuracy')\n",
        "print(\"Cross-validated KNN Accuracy:\", scores_cv.mean())\n"
      ],
      "metadata": {
        "colab": {
          "base_uri": "https://localhost:8080/"
        },
        "id": "bM9RSdr2Gc9g",
        "outputId": "84aa301a-01c1-490d-c02b-44b366725b31"
      },
      "execution_count": 13,
      "outputs": [
        {
          "output_type": "stream",
          "name": "stdout",
          "text": [
            "Cross-validated KNN Accuracy: 0.7543657317859445\n"
          ]
        }
      ]
    }
  ]
}